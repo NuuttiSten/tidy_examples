{
 "cells": [
  {
   "cell_type": "markdown",
   "metadata": {},
   "source": [
    "# Examples of tidy data and tidy tools\n",
    "\n",
    "For Aalto University Machine Learning D course guest lecture 31.01.2022\n",
    "\n",
    "Read more on tidy data [here](https://cran.r-project.org/web/packages/tidyr/vignettes/tidy-data.html)\n",
    "\n",
    "Read more on tidy tools [here](https://cran.r-project.org/web/packages/tidyverse/vignettes/manifesto.html)"
   ]
  },
  {
   "cell_type": "code",
   "execution_count": null,
   "metadata": {},
   "outputs": [
    {
     "ename": "",
     "evalue": "",
     "output_type": "error",
     "traceback": [
      "\u001b[1;31mThe kernel failed to start due to the missing module 'six'. Consider installing this module. \n",
      "View Jupyter <a href='command:jupyter.viewOutput'>log</a> for further details.\n",
      "<a href='https://aka.ms/kernelFailuresMissingModule'>Learn more</a>"
     ]
    }
   ],
   "source": [
    "!pip install pandas\n",
    "!pip install sklearn"
   ]
  },
  {
   "cell_type": "markdown",
   "metadata": {},
   "source": [
    "Let's create an example of a messy dataset (you can try cleaning a real dataset instead as an excercise)"
   ]
  },
  {
   "cell_type": "code",
   "execution_count": null,
   "metadata": {},
   "outputs": [],
   "source": [
    "messy_data = [[{\"a\": 1, \"b\": 3}, 2], [{\"a\": 4, \"b\": 8, \"age\": \"young\"}, 5]]\n",
    "messy_data"
   ]
  },
  {
   "cell_type": "code",
   "execution_count": null,
   "metadata": {},
   "outputs": [],
   "source": [
    "import pandas as pd\n",
    "messy_df = pd.DataFrame(messy_data, columns=(\"features\", \"label\"))\n",
    "messy_df"
   ]
  },
  {
   "cell_type": "markdown",
   "metadata": {},
   "source": [
    "Let's tidy the dataset. Please remember, that each messy dataset is messy in it's own way - the tidying process depends on the data. This is just a minimum example:"
   ]
  },
  {
   "cell_type": "code",
   "execution_count": null,
   "metadata": {},
   "outputs": [],
   "source": [
    "tidy_df = pd.concat(\n",
    "    [messy_df[\"features\"].apply(pd.Series), messy_df[[\"label\"]]], axis=1\n",
    ")\n",
    "tidy_df"
   ]
  },
  {
   "cell_type": "markdown",
   "metadata": {},
   "source": [
    "Example of a messy model class (even messier would be to have just a script with no reusable components like classes and functions)"
   ]
  },
  {
   "cell_type": "code",
   "execution_count": null,
   "metadata": {},
   "outputs": [],
   "source": [
    "from sklearn.linear_model import LinearRegression as reg\n",
    "\n",
    "\n",
    "class MessyModel:\n",
    "    \"\"\"\n",
    "    Poorly constructed ML model class\n",
    "    \"\"\"\n",
    "\n",
    "    def __init__(self, data):\n",
    "        # model accepts data in custom (messy) format\n",
    "        # and it has to be cleaned before use\n",
    "        self.data = pd.concat(\n",
    "            [data[\"features\"].apply(pd.Series), data[[\"label\"]]], axis=1\n",
    "        )\n",
    "        self.data = pd.concat(\n",
    "            [self.data[[\"a\", \"b\"]].apply(pd.Series), self.data[[\"label\"]]], axis=1\n",
    "        )\n",
    "        # in addition model instance creates an unnecessary copy of the data\n",
    "        self.score = np.nan\n",
    "\n",
    "    def y_val(self, X):  # unconventional naming, non-verb, difficult to understand\n",
    "        # a function first does a side-effect\n",
    "        self.model = reg()\n",
    "        self.model.fit(self.data.iloc[:, :-1], self.data.iloc[:, -1])\n",
    "        # and then a transformation\n",
    "        return self.model.predict(X)\n",
    "\n",
    "    def score_calculations(self):\n",
    "        # again, mixing transformations, side-effects and poor naming\n",
    "        self.score = self.model.score(self.data.iloc[:, :-1], self.data.iloc[:, -1])\n",
    "        return self\n",
    "\n",
    "\n",
    "# and we can not pipe the functions!\n",
    "messymodel = MessyModel(messy_df)\n",
    "print(f\"fit model and predict new values, I guess? {messymodel.y_val(test_x)}\")\n",
    "messymodel.score_calculations()\n",
    "print(f\"score, but whay what score and what the ? {messymodel.score}\")"
   ]
  },
  {
   "cell_type": "markdown",
   "metadata": {},
   "source": [
    "Now, let's reconstruct the class the tidy way!"
   ]
  },
  {
   "cell_type": "code",
   "execution_count": null,
   "metadata": {},
   "outputs": [],
   "source": [
    "train_df = tidy_df.drop(\"age\", axis=1)\n",
    "X_train = train_df.iloc[:, :-1]\n",
    "y_train = train_df.iloc[:, -1]\n",
    "\n",
    "\n",
    "class TidyModel:\n",
    "    \"\"\"\n",
    "    Fit, predict and evaluate a linear regression model\n",
    "    \"\"\"\n",
    "\n",
    "    def __init__(self):\n",
    "        # model instance does not contain a copy of the data\n",
    "        self.model = reg()\n",
    "\n",
    "    def fit(self, X, y):\n",
    "        self.model.fit(X, y) # the model only accepts tidy data\n",
    "        # This function performs a side-effect only (model fit), so it returns self\n",
    "        return self\n",
    "\n",
    "    def predict(self, X) -> np.ndarray:\n",
    "        # and here we do a transformation X -> y, so we return values!\n",
    "        return self.model.predict(X)  # start noticing something?\n",
    "\n",
    "    def score(self, X, y):\n",
    "        return self.model.score(\n",
    "            X, y\n",
    "        )  # yup, Sklearn and other standard tools follow tidy principles!\n",
    "\n",
    "# and so we can pipe simple functions!\n",
    "tidymodel = TidyModel().fit(X_train, y_train)  # see pipe!\n",
    "tidymodel.score(X_train, y_train)  # pipe!\n",
    "TidyModel().fit(X_train, y_train).score(X_train, y_train)  # pipe again!\n",
    "\n",
    "# can we go any further? Of course!\n",
    "MAE = np.abs(TidyModel().fit(X_train, y_train).predict(X_train) - y_train).mean()\n",
    "# wow we can do even longer pipes that are still readable and meaningful and very convenient!!\n",
    "MAE"
   ]
  }
 ],
 "metadata": {
  "kernelspec": {
   "display_name": "Python 3 (ipykernel)",
   "language": "python",
   "name": "python3"
  },
  "orig_nbformat": 4
 },
 "nbformat": 4,
 "nbformat_minor": 2
}
